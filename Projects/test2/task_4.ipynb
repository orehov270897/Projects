{
 "cells": [
  {
   "cell_type": "code",
   "execution_count": 85,
   "id": "be612f81",
   "metadata": {},
   "outputs": [],
   "source": [
    "import pandas as pd\n",
    "import numpy as np\n",
    "import seaborn as sns\n",
    "import matplotlib.pyplot as plt\n",
    "%matplotlib inline"
   ]
  },
  {
   "cell_type": "code",
   "execution_count": 36,
   "id": "7cdcdd22",
   "metadata": {
    "scrolled": true
   },
   "outputs": [
    {
     "data": {
      "text/html": [
       "<div>\n",
       "<style scoped>\n",
       "    .dataframe tbody tr th:only-of-type {\n",
       "        vertical-align: middle;\n",
       "    }\n",
       "\n",
       "    .dataframe tbody tr th {\n",
       "        vertical-align: top;\n",
       "    }\n",
       "\n",
       "    .dataframe thead th {\n",
       "        text-align: right;\n",
       "    }\n",
       "</style>\n",
       "<table border=\"1\" class=\"dataframe\">\n",
       "  <thead>\n",
       "    <tr style=\"text-align: right;\">\n",
       "      <th></th>\n",
       "      <th>name</th>\n",
       "      <th>age</th>\n",
       "      <th>visits_quantity</th>\n",
       "      <th>price</th>\n",
       "      <th>category</th>\n",
       "    </tr>\n",
       "  </thead>\n",
       "  <tbody>\n",
       "    <tr>\n",
       "      <th>0</th>\n",
       "      <td>Эмских Зиновий Мечиславович</td>\n",
       "      <td>27</td>\n",
       "      <td>7</td>\n",
       "      <td>30000</td>\n",
       "      <td>Бытовая техника</td>\n",
       "    </tr>\n",
       "    <tr>\n",
       "      <th>1</th>\n",
       "      <td>Бенедиктов Борис Ульянович</td>\n",
       "      <td>40</td>\n",
       "      <td>42</td>\n",
       "      <td>3900</td>\n",
       "      <td>Смартфоны</td>\n",
       "    </tr>\n",
       "    <tr>\n",
       "      <th>2</th>\n",
       "      <td>Алеева Татьяна Родионовна</td>\n",
       "      <td>18</td>\n",
       "      <td>13</td>\n",
       "      <td>4600</td>\n",
       "      <td>ТВ</td>\n",
       "    </tr>\n",
       "    <tr>\n",
       "      <th>3</th>\n",
       "      <td>Низова Эмилия Иларионовна</td>\n",
       "      <td>30</td>\n",
       "      <td>27</td>\n",
       "      <td>2900</td>\n",
       "      <td>Развлечения</td>\n",
       "    </tr>\n",
       "    <tr>\n",
       "      <th>4</th>\n",
       "      <td>Юрьев Гавриил Трофимович</td>\n",
       "      <td>19</td>\n",
       "      <td>12</td>\n",
       "      <td>2100</td>\n",
       "      <td>Компьютеры и комплектующие</td>\n",
       "    </tr>\n",
       "    <tr>\n",
       "      <th>...</th>\n",
       "      <td>...</td>\n",
       "      <td>...</td>\n",
       "      <td>...</td>\n",
       "      <td>...</td>\n",
       "      <td>...</td>\n",
       "    </tr>\n",
       "    <tr>\n",
       "      <th>695</th>\n",
       "      <td>Низовский Никита Онуфриевич</td>\n",
       "      <td>38</td>\n",
       "      <td>26</td>\n",
       "      <td>3400</td>\n",
       "      <td>Услуги</td>\n",
       "    </tr>\n",
       "    <tr>\n",
       "      <th>696</th>\n",
       "      <td>Чупрова Светлана Игоревна</td>\n",
       "      <td>63</td>\n",
       "      <td>3</td>\n",
       "      <td>3400</td>\n",
       "      <td>Аксессуары</td>\n",
       "    </tr>\n",
       "    <tr>\n",
       "      <th>697</th>\n",
       "      <td>Шапиро Изольда Ипполитовна</td>\n",
       "      <td>41</td>\n",
       "      <td>9</td>\n",
       "      <td>3200</td>\n",
       "      <td>Бытовая техника</td>\n",
       "    </tr>\n",
       "    <tr>\n",
       "      <th>698</th>\n",
       "      <td>Шеин Даниил Гордеевич</td>\n",
       "      <td>34</td>\n",
       "      <td>35</td>\n",
       "      <td>600</td>\n",
       "      <td>Смартфоны</td>\n",
       "    </tr>\n",
       "    <tr>\n",
       "      <th>699</th>\n",
       "      <td>Пирогов Дементий Эрнестович</td>\n",
       "      <td>57</td>\n",
       "      <td>10</td>\n",
       "      <td>4200</td>\n",
       "      <td>Смартфоны</td>\n",
       "    </tr>\n",
       "  </tbody>\n",
       "</table>\n",
       "<p>700 rows × 5 columns</p>\n",
       "</div>"
      ],
      "text/plain": [
       "                            name  age  visits_quantity  price  \\\n",
       "0    Эмских Зиновий Мечиславович   27                7  30000   \n",
       "1     Бенедиктов Борис Ульянович   40               42   3900   \n",
       "2      Алеева Татьяна Родионовна   18               13   4600   \n",
       "3      Низова Эмилия Иларионовна   30               27   2900   \n",
       "4       Юрьев Гавриил Трофимович   19               12   2100   \n",
       "..                           ...  ...              ...    ...   \n",
       "695  Низовский Никита Онуфриевич   38               26   3400   \n",
       "696    Чупрова Светлана Игоревна   63                3   3400   \n",
       "697   Шапиро Изольда Ипполитовна   41                9   3200   \n",
       "698        Шеин Даниил Гордеевич   34               35    600   \n",
       "699  Пирогов Дементий Эрнестович   57               10   4200   \n",
       "\n",
       "                       category  \n",
       "0               Бытовая техника  \n",
       "1                     Смартфоны  \n",
       "2                            ТВ  \n",
       "3                   Развлечения  \n",
       "4    Компьютеры и комплектующие  \n",
       "..                          ...  \n",
       "695                      Услуги  \n",
       "696                  Аксессуары  \n",
       "697             Бытовая техника  \n",
       "698                   Смартфоны  \n",
       "699                   Смартфоны  \n",
       "\n",
       "[700 rows x 5 columns]"
      ]
     },
     "execution_count": 36,
     "metadata": {},
     "output_type": "execute_result"
    }
   ],
   "source": [
    "df = pd.read_excel('4.xlsx')\n",
    "df"
   ]
  },
  {
   "cell_type": "code",
   "execution_count": 37,
   "id": "f6c7a2ee",
   "metadata": {
    "scrolled": true
   },
   "outputs": [
    {
     "data": {
      "text/html": [
       "<div>\n",
       "<style scoped>\n",
       "    .dataframe tbody tr th:only-of-type {\n",
       "        vertical-align: middle;\n",
       "    }\n",
       "\n",
       "    .dataframe tbody tr th {\n",
       "        vertical-align: top;\n",
       "    }\n",
       "\n",
       "    .dataframe thead th {\n",
       "        text-align: right;\n",
       "    }\n",
       "</style>\n",
       "<table border=\"1\" class=\"dataframe\">\n",
       "  <thead>\n",
       "    <tr style=\"text-align: right;\">\n",
       "      <th></th>\n",
       "      <th>name</th>\n",
       "      <th>age</th>\n",
       "      <th>visits_quantity</th>\n",
       "      <th>price</th>\n",
       "      <th>category</th>\n",
       "      <th>sex</th>\n",
       "    </tr>\n",
       "  </thead>\n",
       "  <tbody>\n",
       "    <tr>\n",
       "      <th>0</th>\n",
       "      <td>Эмских Зиновий Мечиславович</td>\n",
       "      <td>27</td>\n",
       "      <td>7</td>\n",
       "      <td>30000</td>\n",
       "      <td>Бытовая техника</td>\n",
       "      <td>male</td>\n",
       "    </tr>\n",
       "    <tr>\n",
       "      <th>1</th>\n",
       "      <td>Бенедиктов Борис Ульянович</td>\n",
       "      <td>40</td>\n",
       "      <td>42</td>\n",
       "      <td>3900</td>\n",
       "      <td>Смартфоны</td>\n",
       "      <td>male</td>\n",
       "    </tr>\n",
       "    <tr>\n",
       "      <th>2</th>\n",
       "      <td>Алеева Татьяна Родионовна</td>\n",
       "      <td>18</td>\n",
       "      <td>13</td>\n",
       "      <td>4600</td>\n",
       "      <td>ТВ</td>\n",
       "      <td>female</td>\n",
       "    </tr>\n",
       "    <tr>\n",
       "      <th>3</th>\n",
       "      <td>Низова Эмилия Иларионовна</td>\n",
       "      <td>30</td>\n",
       "      <td>27</td>\n",
       "      <td>2900</td>\n",
       "      <td>Развлечения</td>\n",
       "      <td>female</td>\n",
       "    </tr>\n",
       "    <tr>\n",
       "      <th>4</th>\n",
       "      <td>Юрьев Гавриил Трофимович</td>\n",
       "      <td>19</td>\n",
       "      <td>12</td>\n",
       "      <td>2100</td>\n",
       "      <td>Компьютеры и комплектующие</td>\n",
       "      <td>male</td>\n",
       "    </tr>\n",
       "    <tr>\n",
       "      <th>...</th>\n",
       "      <td>...</td>\n",
       "      <td>...</td>\n",
       "      <td>...</td>\n",
       "      <td>...</td>\n",
       "      <td>...</td>\n",
       "      <td>...</td>\n",
       "    </tr>\n",
       "    <tr>\n",
       "      <th>695</th>\n",
       "      <td>Низовский Никита Онуфриевич</td>\n",
       "      <td>38</td>\n",
       "      <td>26</td>\n",
       "      <td>3400</td>\n",
       "      <td>Услуги</td>\n",
       "      <td>male</td>\n",
       "    </tr>\n",
       "    <tr>\n",
       "      <th>696</th>\n",
       "      <td>Чупрова Светлана Игоревна</td>\n",
       "      <td>63</td>\n",
       "      <td>3</td>\n",
       "      <td>3400</td>\n",
       "      <td>Аксессуары</td>\n",
       "      <td>female</td>\n",
       "    </tr>\n",
       "    <tr>\n",
       "      <th>697</th>\n",
       "      <td>Шапиро Изольда Ипполитовна</td>\n",
       "      <td>41</td>\n",
       "      <td>9</td>\n",
       "      <td>3200</td>\n",
       "      <td>Бытовая техника</td>\n",
       "      <td>female</td>\n",
       "    </tr>\n",
       "    <tr>\n",
       "      <th>698</th>\n",
       "      <td>Шеин Даниил Гордеевич</td>\n",
       "      <td>34</td>\n",
       "      <td>35</td>\n",
       "      <td>600</td>\n",
       "      <td>Смартфоны</td>\n",
       "      <td>male</td>\n",
       "    </tr>\n",
       "    <tr>\n",
       "      <th>699</th>\n",
       "      <td>Пирогов Дементий Эрнестович</td>\n",
       "      <td>57</td>\n",
       "      <td>10</td>\n",
       "      <td>4200</td>\n",
       "      <td>Смартфоны</td>\n",
       "      <td>male</td>\n",
       "    </tr>\n",
       "  </tbody>\n",
       "</table>\n",
       "<p>700 rows × 6 columns</p>\n",
       "</div>"
      ],
      "text/plain": [
       "                            name  age  visits_quantity  price  \\\n",
       "0    Эмских Зиновий Мечиславович   27                7  30000   \n",
       "1     Бенедиктов Борис Ульянович   40               42   3900   \n",
       "2      Алеева Татьяна Родионовна   18               13   4600   \n",
       "3      Низова Эмилия Иларионовна   30               27   2900   \n",
       "4       Юрьев Гавриил Трофимович   19               12   2100   \n",
       "..                           ...  ...              ...    ...   \n",
       "695  Низовский Никита Онуфриевич   38               26   3400   \n",
       "696    Чупрова Светлана Игоревна   63                3   3400   \n",
       "697   Шапиро Изольда Ипполитовна   41                9   3200   \n",
       "698        Шеин Даниил Гордеевич   34               35    600   \n",
       "699  Пирогов Дементий Эрнестович   57               10   4200   \n",
       "\n",
       "                       category     sex  \n",
       "0               Бытовая техника    male  \n",
       "1                     Смартфоны    male  \n",
       "2                            ТВ  female  \n",
       "3                   Развлечения  female  \n",
       "4    Компьютеры и комплектующие    male  \n",
       "..                          ...     ...  \n",
       "695                      Услуги    male  \n",
       "696                  Аксессуары  female  \n",
       "697             Бытовая техника  female  \n",
       "698                   Смартфоны    male  \n",
       "699                   Смартфоны    male  \n",
       "\n",
       "[700 rows x 6 columns]"
      ]
     },
     "execution_count": 37,
     "metadata": {},
     "output_type": "execute_result"
    }
   ],
   "source": [
    "df['sex'] = df.name.apply(lambda x: x[-1])\n",
    "df.loc[df.sex == 'ч', 'sex'] = 'male'\n",
    "df.loc[df.sex == 'а', 'sex']= 'female'\n",
    "df"
   ]
  },
  {
   "cell_type": "code",
   "execution_count": 77,
   "id": "98bd2c13",
   "metadata": {},
   "outputs": [
    {
     "data": {
      "text/html": [
       "<div>\n",
       "<style scoped>\n",
       "    .dataframe tbody tr th:only-of-type {\n",
       "        vertical-align: middle;\n",
       "    }\n",
       "\n",
       "    .dataframe tbody tr th {\n",
       "        vertical-align: top;\n",
       "    }\n",
       "\n",
       "    .dataframe thead th {\n",
       "        text-align: right;\n",
       "    }\n",
       "</style>\n",
       "<table border=\"1\" class=\"dataframe\">\n",
       "  <thead>\n",
       "    <tr style=\"text-align: right;\">\n",
       "      <th></th>\n",
       "      <th>name</th>\n",
       "      <th>age</th>\n",
       "      <th>visits_quantity</th>\n",
       "      <th>price</th>\n",
       "      <th>category</th>\n",
       "      <th>sex</th>\n",
       "      <th>age_round</th>\n",
       "    </tr>\n",
       "  </thead>\n",
       "  <tbody>\n",
       "    <tr>\n",
       "      <th>0</th>\n",
       "      <td>Эмских Зиновий Мечиславович</td>\n",
       "      <td>27</td>\n",
       "      <td>7</td>\n",
       "      <td>30000</td>\n",
       "      <td>Бытовая техника</td>\n",
       "      <td>male</td>\n",
       "      <td>30</td>\n",
       "    </tr>\n",
       "    <tr>\n",
       "      <th>1</th>\n",
       "      <td>Бенедиктов Борис Ульянович</td>\n",
       "      <td>40</td>\n",
       "      <td>42</td>\n",
       "      <td>3900</td>\n",
       "      <td>Смартфоны</td>\n",
       "      <td>male</td>\n",
       "      <td>40</td>\n",
       "    </tr>\n",
       "    <tr>\n",
       "      <th>2</th>\n",
       "      <td>Алеева Татьяна Родионовна</td>\n",
       "      <td>18</td>\n",
       "      <td>13</td>\n",
       "      <td>4600</td>\n",
       "      <td>ТВ</td>\n",
       "      <td>female</td>\n",
       "      <td>20</td>\n",
       "    </tr>\n",
       "    <tr>\n",
       "      <th>3</th>\n",
       "      <td>Низова Эмилия Иларионовна</td>\n",
       "      <td>30</td>\n",
       "      <td>27</td>\n",
       "      <td>2900</td>\n",
       "      <td>Развлечения</td>\n",
       "      <td>female</td>\n",
       "      <td>30</td>\n",
       "    </tr>\n",
       "    <tr>\n",
       "      <th>4</th>\n",
       "      <td>Юрьев Гавриил Трофимович</td>\n",
       "      <td>19</td>\n",
       "      <td>12</td>\n",
       "      <td>2100</td>\n",
       "      <td>Компьютеры и комплектующие</td>\n",
       "      <td>male</td>\n",
       "      <td>20</td>\n",
       "    </tr>\n",
       "    <tr>\n",
       "      <th>...</th>\n",
       "      <td>...</td>\n",
       "      <td>...</td>\n",
       "      <td>...</td>\n",
       "      <td>...</td>\n",
       "      <td>...</td>\n",
       "      <td>...</td>\n",
       "      <td>...</td>\n",
       "    </tr>\n",
       "    <tr>\n",
       "      <th>695</th>\n",
       "      <td>Низовский Никита Онуфриевич</td>\n",
       "      <td>38</td>\n",
       "      <td>26</td>\n",
       "      <td>3400</td>\n",
       "      <td>Услуги</td>\n",
       "      <td>male</td>\n",
       "      <td>40</td>\n",
       "    </tr>\n",
       "    <tr>\n",
       "      <th>696</th>\n",
       "      <td>Чупрова Светлана Игоревна</td>\n",
       "      <td>63</td>\n",
       "      <td>3</td>\n",
       "      <td>3400</td>\n",
       "      <td>Аксессуары</td>\n",
       "      <td>female</td>\n",
       "      <td>60</td>\n",
       "    </tr>\n",
       "    <tr>\n",
       "      <th>697</th>\n",
       "      <td>Шапиро Изольда Ипполитовна</td>\n",
       "      <td>41</td>\n",
       "      <td>9</td>\n",
       "      <td>3200</td>\n",
       "      <td>Бытовая техника</td>\n",
       "      <td>female</td>\n",
       "      <td>40</td>\n",
       "    </tr>\n",
       "    <tr>\n",
       "      <th>698</th>\n",
       "      <td>Шеин Даниил Гордеевич</td>\n",
       "      <td>34</td>\n",
       "      <td>35</td>\n",
       "      <td>600</td>\n",
       "      <td>Смартфоны</td>\n",
       "      <td>male</td>\n",
       "      <td>30</td>\n",
       "    </tr>\n",
       "    <tr>\n",
       "      <th>699</th>\n",
       "      <td>Пирогов Дементий Эрнестович</td>\n",
       "      <td>57</td>\n",
       "      <td>10</td>\n",
       "      <td>4200</td>\n",
       "      <td>Смартфоны</td>\n",
       "      <td>male</td>\n",
       "      <td>60</td>\n",
       "    </tr>\n",
       "  </tbody>\n",
       "</table>\n",
       "<p>700 rows × 7 columns</p>\n",
       "</div>"
      ],
      "text/plain": [
       "                            name  age  visits_quantity  price  \\\n",
       "0    Эмских Зиновий Мечиславович   27                7  30000   \n",
       "1     Бенедиктов Борис Ульянович   40               42   3900   \n",
       "2      Алеева Татьяна Родионовна   18               13   4600   \n",
       "3      Низова Эмилия Иларионовна   30               27   2900   \n",
       "4       Юрьев Гавриил Трофимович   19               12   2100   \n",
       "..                           ...  ...              ...    ...   \n",
       "695  Низовский Никита Онуфриевич   38               26   3400   \n",
       "696    Чупрова Светлана Игоревна   63                3   3400   \n",
       "697   Шапиро Изольда Ипполитовна   41                9   3200   \n",
       "698        Шеин Даниил Гордеевич   34               35    600   \n",
       "699  Пирогов Дементий Эрнестович   57               10   4200   \n",
       "\n",
       "                       category     sex  age_round  \n",
       "0               Бытовая техника    male         30  \n",
       "1                     Смартфоны    male         40  \n",
       "2                            ТВ  female         20  \n",
       "3                   Развлечения  female         30  \n",
       "4    Компьютеры и комплектующие    male         20  \n",
       "..                          ...     ...        ...  \n",
       "695                      Услуги    male         40  \n",
       "696                  Аксессуары  female         60  \n",
       "697             Бытовая техника  female         40  \n",
       "698                   Смартфоны    male         30  \n",
       "699                   Смартфоны    male         60  \n",
       "\n",
       "[700 rows x 7 columns]"
      ]
     },
     "execution_count": 77,
     "metadata": {},
     "output_type": "execute_result"
    }
   ],
   "source": [
    "df['age_round'] = df.age.apply(lambda x: round(x/10)*10)\n",
    "df"
   ]
  },
  {
   "cell_type": "code",
   "execution_count": 57,
   "id": "0f957d8a",
   "metadata": {},
   "outputs": [],
   "source": [
    "male_df = df[df.sex == 'male']\n",
    "female_df = df[df.sex == 'female']"
   ]
  },
  {
   "cell_type": "code",
   "execution_count": 38,
   "id": "af782373",
   "metadata": {},
   "outputs": [
    {
     "data": {
      "text/plain": [
       "337"
      ]
     },
     "execution_count": 38,
     "metadata": {},
     "output_type": "execute_result"
    }
   ],
   "source": [
    "male_quantity = male_df.shape[0] # Количество мужчин\n",
    "male_quantity"
   ]
  },
  {
   "cell_type": "code",
   "execution_count": 82,
   "id": "7476b3e7",
   "metadata": {},
   "outputs": [
    {
     "data": {
      "text/plain": [
       "363"
      ]
     },
     "execution_count": 82,
     "metadata": {},
     "output_type": "execute_result"
    }
   ],
   "source": [
    "female_quantity = female_df.shape[0] # Количество женщин\n",
    "female_quantity"
   ]
  },
  {
   "cell_type": "code",
   "execution_count": 88,
   "id": "f6cc4b33",
   "metadata": {},
   "outputs": [
    {
     "data": {
      "text/plain": [
       "2656.708350996185"
      ]
     },
     "execution_count": 88,
     "metadata": {},
     "output_type": "execute_result"
    }
   ],
   "source": [
    "male_sum_mean = np.mean(df[df.sex == 'male']['price']) - 30000 / 336 # Средний чек среди мужчин\n",
    "male_sum_mean"
   ]
  },
  {
   "cell_type": "code",
   "execution_count": 43,
   "id": "a49de3b3",
   "metadata": {},
   "outputs": [
    {
     "data": {
      "text/plain": [
       "2487.052341597796"
      ]
     },
     "execution_count": 43,
     "metadata": {},
     "output_type": "execute_result"
    }
   ],
   "source": [
    "female_sum_mean = np.mean(df[df.sex == 'female']['price']) # Средний чек среди женщин\n",
    "female_sum_mean"
   ]
  },
  {
   "cell_type": "code",
   "execution_count": 50,
   "id": "2e07e33d",
   "metadata": {},
   "outputs": [
    {
     "data": {
      "text/plain": [
       "<AxesSubplot:xlabel='visits_quantity', ylabel='price'>"
      ]
     },
     "execution_count": 50,
     "metadata": {},
     "output_type": "execute_result"
    },
    {
     "data": {
      "image/png": "[encoded data removed]",
      "text/plain": [
       "<Figure size 432x288 with 1 Axes>"
      ]
     },
     "metadata": {
      "needs_background": "light"
     },
     "output_type": "display_data"
    }
   ],
   "source": [
    "sns.scatterplot(x=df.visits_quantity, y=df.price)"
   ]
  },
  {
   "cell_type": "code",
   "execution_count": 87,
   "id": "8a95f5c6",
   "metadata": {
    "scrolled": true
   },
   "outputs": [
    {
     "data": {
      "text/plain": [
       "<AxesSubplot:xlabel='category', ylabel='age'>"
      ]
     },
     "execution_count": 87,
     "metadata": {},
     "output_type": "execute_result"
    },
    {
     "data": {
      "image/png": "[encoded data removed]",
      "text/plain": [
       "<Figure size 1440x720 with 1 Axes>"
      ]
     },
     "metadata": {
      "needs_background": "light"
     },
     "output_type": "display_data"
    }
   ],
   "source": [
    "plt.figure(figsize=[20,10])\n",
    "sns.scatterplot(x=df.category, y=df.age)"
   ]
  },
  {
   "cell_type": "code",
   "execution_count": 95,
   "id": "1e3bdf3f",
   "metadata": {},
   "outputs": [
    {
     "data": {
      "text/html": [
       "<div>\n",
       "<style scoped>\n",
       "    .dataframe tbody tr th:only-of-type {\n",
       "        vertical-align: middle;\n",
       "    }\n",
       "\n",
       "    .dataframe tbody tr th {\n",
       "        vertical-align: top;\n",
       "    }\n",
       "\n",
       "    .dataframe thead th {\n",
       "        text-align: right;\n",
       "    }\n",
       "</style>\n",
       "<table border=\"1\" class=\"dataframe\">\n",
       "  <thead>\n",
       "    <tr style=\"text-align: right;\">\n",
       "      <th></th>\n",
       "      <th>sex</th>\n",
       "      <th>proceeds</th>\n",
       "    </tr>\n",
       "  </thead>\n",
       "  <tbody>\n",
       "    <tr>\n",
       "      <th>0</th>\n",
       "      <td>female</td>\n",
       "      <td>902800</td>\n",
       "    </tr>\n",
       "    <tr>\n",
       "      <th>1</th>\n",
       "      <td>male</td>\n",
       "      <td>925400</td>\n",
       "    </tr>\n",
       "  </tbody>\n",
       "</table>\n",
       "</div>"
      ],
      "text/plain": [
       "      sex  proceeds\n",
       "0  female    902800\n",
       "1    male    925400"
      ]
     },
     "execution_count": 95,
     "metadata": {},
     "output_type": "execute_result"
    }
   ],
   "source": [
    "proceeds_df = df.groupby('sex', as_index=False).agg({'price': 'sum'}).rename(columns={'price': 'proceeds'})\n",
    "proceeds_df"
   ]
  },
  {
   "cell_type": "code",
   "execution_count": 96,
   "id": "bccec9a8",
   "metadata": {},
   "outputs": [
    {
     "data": {
      "text/plain": [
       "<AxesSubplot:xlabel='sex', ylabel='proceeds'>"
      ]
     },
     "execution_count": 96,
     "metadata": {},
     "output_type": "execute_result"
    },
    {
     "data": {
      "image/png": "[encoded data removed]",
      "text/plain": [
       "<Figure size 432x288 with 1 Axes>"
      ]
     },
     "metadata": {
      "needs_background": "light"
     },
     "output_type": "display_data"
    }
   ],
   "source": [
    "sns.barplot(x='sex', y='proceeds', data=proceeds_df)"
   ]
  },
  {
   "cell_type": "code",
   "execution_count": 98,
   "id": "c54adb58",
   "metadata": {},
   "outputs": [
    {
     "data": {
      "text/html": [
       "<div>\n",
       "<style scoped>\n",
       "    .dataframe tbody tr th:only-of-type {\n",
       "        vertical-align: middle;\n",
       "    }\n",
       "\n",
       "    .dataframe tbody tr th {\n",
       "        vertical-align: top;\n",
       "    }\n",
       "\n",
       "    .dataframe thead th {\n",
       "        text-align: right;\n",
       "    }\n",
       "</style>\n",
       "<table border=\"1\" class=\"dataframe\">\n",
       "  <thead>\n",
       "    <tr style=\"text-align: right;\">\n",
       "      <th></th>\n",
       "      <th>category</th>\n",
       "      <th>price</th>\n",
       "      <th>age</th>\n",
       "      <th>visits_quantity</th>\n",
       "    </tr>\n",
       "  </thead>\n",
       "  <tbody>\n",
       "    <tr>\n",
       "      <th>0</th>\n",
       "      <td>Аксессуары</td>\n",
       "      <td>2802.127660</td>\n",
       "      <td>42.510638</td>\n",
       "      <td>25.446809</td>\n",
       "    </tr>\n",
       "    <tr>\n",
       "      <th>1</th>\n",
       "      <td>Бытовая техника</td>\n",
       "      <td>3182.000000</td>\n",
       "      <td>44.540000</td>\n",
       "      <td>22.800000</td>\n",
       "    </tr>\n",
       "    <tr>\n",
       "      <th>2</th>\n",
       "      <td>Компьютеры и комплектующие</td>\n",
       "      <td>2846.511628</td>\n",
       "      <td>40.976744</td>\n",
       "      <td>26.674419</td>\n",
       "    </tr>\n",
       "    <tr>\n",
       "      <th>3</th>\n",
       "      <td>Развлечения</td>\n",
       "      <td>2654.411765</td>\n",
       "      <td>40.676471</td>\n",
       "      <td>24.117647</td>\n",
       "    </tr>\n",
       "    <tr>\n",
       "      <th>4</th>\n",
       "      <td>Смартфоны</td>\n",
       "      <td>2500.000000</td>\n",
       "      <td>45.851064</td>\n",
       "      <td>23.829787</td>\n",
       "    </tr>\n",
       "    <tr>\n",
       "      <th>5</th>\n",
       "      <td>ТВ</td>\n",
       "      <td>2916.666667</td>\n",
       "      <td>46.055556</td>\n",
       "      <td>21.833333</td>\n",
       "    </tr>\n",
       "    <tr>\n",
       "      <th>6</th>\n",
       "      <td>Услуги</td>\n",
       "      <td>2373.913043</td>\n",
       "      <td>45.413043</td>\n",
       "      <td>25.565217</td>\n",
       "    </tr>\n",
       "  </tbody>\n",
       "</table>\n",
       "</div>"
      ],
      "text/plain": [
       "                     category        price        age  visits_quantity\n",
       "0                  Аксессуары  2802.127660  42.510638        25.446809\n",
       "1             Бытовая техника  3182.000000  44.540000        22.800000\n",
       "2  Компьютеры и комплектующие  2846.511628  40.976744        26.674419\n",
       "3                 Развлечения  2654.411765  40.676471        24.117647\n",
       "4                   Смартфоны  2500.000000  45.851064        23.829787\n",
       "5                          ТВ  2916.666667  46.055556        21.833333\n",
       "6                      Услуги  2373.913043  45.413043        25.565217"
      ]
     },
     "execution_count": 98,
     "metadata": {},
     "output_type": "execute_result"
    }
   ],
   "source": [
    "categories_df = male_df.groupby('category', as_index=False).agg({'price': 'mean', 'age': 'mean', 'visits_quantity': 'mean'})\n",
    "categories_df"
   ]
  },
  {
   "cell_type": "code",
   "execution_count": 100,
   "id": "898e0624",
   "metadata": {},
   "outputs": [
    {
     "data": {
      "text/plain": [
       "<AxesSubplot:xlabel='category', ylabel='visits_quantity'>"
      ]
     },
     "execution_count": 100,
     "metadata": {},
     "output_type": "execute_result"
    },
    {
     "data": {
      "image/png": "[encoded data removed]",
      "text/plain": [
       "<Figure size 1440x720 with 1 Axes>"
      ]
     },
     "metadata": {
      "needs_background": "light"
     },
     "output_type": "display_data"
    }
   ],
   "source": [
    "plt.figure(figsize=[20,10])\n",
    "sns.barplot(x='category', y='visits_quantity', data=categories_df)"
   ]
  },
  {
   "cell_type": "code",
   "execution_count": null,
   "id": "c7afe525",
   "metadata": {},
   "outputs": [],
   "source": []
  },
  {
   "cell_type": "code",
   "execution_count": null,
   "id": "d3b28a48",
   "metadata": {},
   "outputs": [],
   "source": []
  },
  {
   "cell_type": "code",
   "execution_count": null,
   "id": "8e9b3e90",
   "metadata": {},
   "outputs": [],
   "source": []
  },
  {
   "cell_type": "code",
   "execution_count": null,
   "id": "e9b4b4fa",
   "metadata": {},
   "outputs": [],
   "source": []
  },
  {
   "cell_type": "code",
   "execution_count": null,
   "id": "e922217c",
   "metadata": {},
   "outputs": [],
   "source": []
  },
  {
   "cell_type": "code",
   "execution_count": null,
   "id": "633143dd",
   "metadata": {},
   "outputs": [],
   "source": []
  },
  {
   "cell_type": "code",
   "execution_count": 106,
   "id": "3be8c906",
   "metadata": {},
   "outputs": [
    {
     "data": {
      "text/plain": [
       "<AxesSubplot:xlabel='age_round', ylabel='category'>"
      ]
     },
     "execution_count": 106,
     "metadata": {},
     "output_type": "execute_result"
    },
    {
     "data": {
      "image/png": "[encoded data removed]",
      "text/plain": [
       "<Figure size 432x288 with 2 Axes>"
      ]
     },
     "metadata": {
      "needs_background": "light"
     },
     "output_type": "display_data"
    }
   ],
   "source": [
    "sns.heatmap(df.groupby(['category', 'age_round'], as_index=False).agg({'price': 'count'}) \\\n",
    "  .pivot(index='category', columns='age_round', values='price'))"
   ]
  },
  {
   "cell_type": "code",
   "execution_count": 78,
   "id": "8dc2e28b",
   "metadata": {},
   "outputs": [
    {
     "data": {
      "text/html": [
       "<div>\n",
       "<style scoped>\n",
       "    .dataframe tbody tr th:only-of-type {\n",
       "        vertical-align: middle;\n",
       "    }\n",
       "\n",
       "    .dataframe tbody tr th {\n",
       "        vertical-align: top;\n",
       "    }\n",
       "\n",
       "    .dataframe thead th {\n",
       "        text-align: right;\n",
       "    }\n",
       "</style>\n",
       "<table border=\"1\" class=\"dataframe\">\n",
       "  <thead>\n",
       "    <tr style=\"text-align: right;\">\n",
       "      <th></th>\n",
       "      <th>price</th>\n",
       "    </tr>\n",
       "    <tr>\n",
       "      <th>age_round</th>\n",
       "      <th></th>\n",
       "    </tr>\n",
       "  </thead>\n",
       "  <tbody>\n",
       "    <tr>\n",
       "      <th>20</th>\n",
       "      <td>325100</td>\n",
       "    </tr>\n",
       "    <tr>\n",
       "      <th>30</th>\n",
       "      <td>323000</td>\n",
       "    </tr>\n",
       "    <tr>\n",
       "      <th>40</th>\n",
       "      <td>366400</td>\n",
       "    </tr>\n",
       "    <tr>\n",
       "      <th>50</th>\n",
       "      <td>287600</td>\n",
       "    </tr>\n",
       "    <tr>\n",
       "      <th>60</th>\n",
       "      <td>362800</td>\n",
       "    </tr>\n",
       "    <tr>\n",
       "      <th>70</th>\n",
       "      <td>163300</td>\n",
       "    </tr>\n",
       "  </tbody>\n",
       "</table>\n",
       "</div>"
      ],
      "text/plain": [
       "            price\n",
       "age_round        \n",
       "20         325100\n",
       "30         323000\n",
       "40         366400\n",
       "50         287600\n",
       "60         362800\n",
       "70         163300"
      ]
     },
     "execution_count": 78,
     "metadata": {},
     "output_type": "execute_result"
    }
   ],
   "source": [
    "df.groupby('age_round').agg({'price': 'sum'})"
   ]
  },
  {
   "cell_type": "code",
   "execution_count": null,
   "id": "c4c97748",
   "metadata": {},
   "outputs": [],
   "source": []
  }
 ],
 "metadata": {
  "kernelspec": {
   "display_name": "Python 3 (ipykernel)",
   "language": "python",
   "name": "python3"
  },
  "language_info": {
   "codemirror_mode": {
    "name": "ipython",
    "version": 3
   },
   "file_extension": ".py",
   "mimetype": "text/x-python",
   "name": "python",
   "nbconvert_exporter": "python",
   "pygments_lexer": "ipython3",
   "version": "3.9.7"
  }
 },
 "nbformat": 4,
 "nbformat_minor": 5
}
